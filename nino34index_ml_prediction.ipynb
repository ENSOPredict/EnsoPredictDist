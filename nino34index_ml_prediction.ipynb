{
 "cells": [
  {
   "cell_type": "markdown",
   "metadata": {
    "id": "eIGUMhaj-2qY"
   },
   "source": [
    "# ENSO PREDICT\n",
    "This program uses machine learning based prediction to do hindcasts on Niño 3.4 index. The models we provide were trained using Convolutional Neural Network (CNN) regression and CNRM data, and they are the best models showing the best performance. EnsoPredict predicts Niño3.4 index from input data a user puts. \n",
    "\n",
    "## Execution format: \n",
    "%run -i nino34index_ml_prediction.py < lead_time > < interest_year > < interest_month >  < input_data >\n",
    "\n",
    "### Parameter selection:\n",
    "A user can directly write and change parameters, lead time, interest year and month and input data. \n",
    "\n",
    "1. lead_time: an integer number from 1 to 12\n",
    "2. interest_year: one year from 2011 to an available end year of input data a user put. For example, if input data has surface temperature data till 2019, available interest_year is from 2011 to 2019. \n",
    "\n",
    "3. interest_month: a month from 1 to 12\n",
    "4. input_data: File name of that a user puts in the “mount/data” folder.  Input data could be any *.nc files having 3 coordinates, longitude, latitude, and time, and sea surface temperatures data variables. Examples of input data are:\n",
    " - sst.mon.mean.trefadj.anom.1880to2018.nc\n",
    " - regridded_era_t2m_anomalies.nc\n",
    "\n",
    "For example, parameters < 3 2019 12 'regridded_era_t2m_anomalies.nc' > mean that lead time is 3, an interest year is 2019, and an interest month is March, and input data is “regridded_era_t2m”.  With these selected parameters, Niño 3.4 indexes are predicted from January 2011 until each lead time after the interest year and month. Lead time 1 model predicts Niño 3.4 index till April 2019, Lead time 2 model predicts the index till May 2019, and Lead time 3 model predicts the index till June 2019.\n",
    "\n",
    "## Output\n",
    "1. output1: table having predicted values and ground truth. The ground truth is calculated rolling 3-months average of sea surface temperature from input data. \n",
    "2. output2: table showing Pearson correlation and root-mean-square error (RMSE) for each lead time. \n",
    "3. output3: csv file having predicted values and ground truth. This csv file will be generated in the “mount/output” folder, so a user can manipulate the predicted results for another purpose.\n",
    "4. output4: graph of ground truth and prediction results"
   ]
  },
  {
   "cell_type": "code",
   "execution_count": null,
   "metadata": {
    "colab": {
     "base_uri": "https://localhost:8080/",
     "height": 542
    },
    "executionInfo": {
     "elapsed": 834,
     "status": "ok",
     "timestamp": 1605151018253,
     "user": {
      "displayName": "Myunghee Lee",
      "photoUrl": "",
      "userId": "09294017020174528311"
     },
     "user_tz": 480
    },
    "id": "VHapIi0i-2t3",
    "outputId": "9f300c81-c0a5-41bd-9745-8681f3f138b9"
   },
   "outputs": [],
   "source": [
    "# < lead_time > < interest_year > < interest_month > <input_data>\n",
    "%run -i nino34index_ml_prediction.py 3 2018 4 'sst.mon.mean.trefadj.anom.1880to2018.nc' "
   ]
  },
  {
   "cell_type": "code",
   "execution_count": null,
   "metadata": {},
   "outputs": [],
   "source": [
    "%run -i nino34index_ml_prediction.py 4 2019 12 'regridded_era_t2m_anomalies.nc' "
   ]
  },
  {
   "cell_type": "code",
   "execution_count": null,
   "metadata": {},
   "outputs": [],
   "source": []
  }
 ],
 "metadata": {
  "accelerator": "GPU",
  "colab": {
   "collapsed_sections": [],
   "name": "result.ipynb",
   "provenance": []
  },
  "kernelspec": {
   "display_name": "Python 3",
   "language": "python",
   "name": "python3"
  },
  "language_info": {
   "codemirror_mode": {
    "name": "ipython",
    "version": 3
   },
   "file_extension": ".py",
   "mimetype": "text/x-python",
   "name": "python",
   "nbconvert_exporter": "python",
   "pygments_lexer": "ipython3",
   "version": "3.7.2"
  }
 },
 "nbformat": 4,
 "nbformat_minor": 1
}
