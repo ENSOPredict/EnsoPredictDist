{
 "cells": [
  {
   "cell_type": "markdown",
   "metadata": {
    "id": "eIGUMhaj-2qY"
   },
   "source": [
    "# ENSO PREDICT\n",
    "This program will use machine learning based prediction to do hindcast on Nino3.4 index based on Cobe Sea Surface Temperature or regridded era t2m. The model was trained using Convolutional Neural Network regression and MPI data. EnsoPredict predicts Nino3.4 index with input data user can select between Cobe sst and regridded era t2m. \n",
    "\n",
    "Predicted Nino3.4 index is generated from January 2011 until selected lead time after the ineterest year and month. For example, if March 2018 is interest year and month and the selected lead time is 3, Nino3.4 index is gerenated from January 2011 until June 2018. Lead time 1 model predictes Nino3.4 index till April 2018, Lead time 2 model predicts the index till May 2018, and Lead time 3 model predicts the index till June 2018.      \n",
    "\n",
    "## Execution format: \n",
    "%run -i nino34index_ml_prediction.py < lead_time > < interest_year > < interest_month > <input_data>\n",
    "\n",
    "### Parameter selection:\n",
    "1. lead_time: an integer number from 1 to 12\n",
    "2. interest_year: one year from 2011 to 2018\n",
    "3. interest_month: a month from 1 to 12\n",
    "4. input_data: 'observations' or 'observations2'\n",
    "   - observations: sst.mon.mean.trefadj.anom.1880to2018.nc\n",
    "   - observations2: regridded_era_t2m_anomalies.nc\n",
    "\n",
    "For example, parameters < 3 2017 4 'observations' > mean that Nino3.4 indexes from January 2011 to May 2017 by lead time 1 model, to June 2017 by lead time 2 model, and to July 2018 by lead time 3 model will be predicted.\n",
    "\n",
    "## Output\n",
    "1. csv file having predictands values\n",
    "2. Lead-time Pearson correlation and root-mean-square error (RMSE) table  \n",
    "3. Graph of ground truth and prediction results\n",
    "    - ground truth: nino34.long.anom.data.txt (available till 2019-01-01)\n"
   ]
  },
  {
   "cell_type": "code",
   "execution_count": null,
   "metadata": {
    "colab": {
     "base_uri": "https://localhost:8080/",
     "height": 542
    },
    "executionInfo": {
     "elapsed": 834,
     "status": "ok",
     "timestamp": 1605151018253,
     "user": {
      "displayName": "Myunghee Lee",
      "photoUrl": "",
      "userId": "09294017020174528311"
     },
     "user_tz": 480
    },
    "id": "VHapIi0i-2t3",
    "outputId": "9f300c81-c0a5-41bd-9745-8681f3f138b9"
   },
   "outputs": [],
   "source": [
    "# < lead_time > < interest_year > < interest_month > <input_data>\n",
    "%run -i nino34index_ml_prediction.py 3 2018 4 'sst.mon.mean.trefadj.anom.1880to2018.nc' "
   ]
  },
  {
   "cell_type": "code",
   "execution_count": null,
   "metadata": {},
   "outputs": [],
   "source": [
    "%run -i nino34index_ml_prediction.py 3 2019 12 'regridded_era_t2m_anomalies.nc' "
   ]
  }
 ],
 "metadata": {
  "accelerator": "GPU",
  "colab": {
   "collapsed_sections": [],
   "name": "result.ipynb",
   "provenance": []
  },
  "kernelspec": {
   "display_name": "Python 3",
   "language": "python",
   "name": "python3"
  },
  "language_info": {
   "codemirror_mode": {
    "name": "ipython",
    "version": 3
   },
   "file_extension": ".py",
   "mimetype": "text/x-python",
   "name": "python",
   "nbconvert_exporter": "python",
   "pygments_lexer": "ipython3",
   "version": "3.7.2"
  }
 },
 "nbformat": 4,
 "nbformat_minor": 1
}
